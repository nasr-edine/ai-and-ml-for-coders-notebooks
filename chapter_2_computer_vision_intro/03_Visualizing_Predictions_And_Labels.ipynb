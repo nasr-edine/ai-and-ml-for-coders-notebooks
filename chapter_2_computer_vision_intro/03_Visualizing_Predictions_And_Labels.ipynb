{
  "nbformat": 4,
  "nbformat_minor": 0,
  "metadata": {
    "colab": {
      "provenance": [],
      "gpuType": "T4"
    },
    "kernelspec": {
      "name": "python3",
      "display_name": "Python 3"
    },
    "language_info": {
      "name": "python"
    },
    "accelerator": "GPU"
  },
  "cells": [
    {
      "cell_type": "markdown",
      "source": [
        "#Understanding and Visualizing Model Predictions\n",
        "## Introduction\n",
        "\n",
        "In this notebook, we will explore how to interpret the predictions made by a neural network model trained on the Fashion MNIST dataset. The primary focus is on understanding the output of the model by visualizing the predicted probabilities for each class and comparing them with the actual labels.\n",
        "\n",
        "The purpose of this notebook is to:\n",
        "- Show how to extract and display the probabilities that the model assigns to each class.\n",
        "- Identify the class with the highest predicted probability as the model's prediction.\n",
        "- Compare the model's predictions with the actual labels to evaluate its performance on individual test examples.\n",
        "\n",
        "This notebook builds on the previous examples where we trained a simple neural network to classify fashion items. Here, we delve deeper into the predictions to gain insights into how the model is making decisions."
      ],
      "metadata": {
        "id": "FhU5oUsF86Vq"
      }
    },
    {
      "cell_type": "markdown",
      "source": [
        "## Importing Libraries\n",
        "This block imports TensorFlow, which is a powerful library for machine learning. The version of TensorFlow is also printed to ensure compatibility."
      ],
      "metadata": {
        "id": "987L5xa_2B2D"
      }
    },
    {
      "cell_type": "code",
      "source": [
        "import numpy as np\n",
        "import tensorflow as tf\n",
        "print(tf.__version__)"
      ],
      "metadata": {
        "id": "Hr3Rt1-EW7Mt",
        "colab": {
          "base_uri": "https://localhost:8080/"
        },
        "outputId": "0ca54156-7979-4016-91a0-76ef7397d02a"
      },
      "execution_count": 20,
      "outputs": [
        {
          "output_type": "stream",
          "name": "stdout",
          "text": [
            "2.17.0\n"
          ]
        }
      ]
    },
    {
      "cell_type": "markdown",
      "source": [
        "\n",
        "## Loading the Dataset\n",
        "The Fashion MNIST dataset is loaded, which contains images of clothing items. The data is divided into training and testing sets.\n"
      ],
      "metadata": {
        "id": "wGJpxbGc2jT-"
      }
    },
    {
      "cell_type": "code",
      "source": [
        "data = tf.keras.datasets.fashion_mnist\n",
        "(training_images, training_labels), (test_images, test_labels) = data.load_data()"
      ],
      "metadata": {
        "id": "cUV3iulClTyB"
      },
      "execution_count": 21,
      "outputs": []
    },
    {
      "cell_type": "markdown",
      "source": [
        "## Normalizing the Data\n",
        "The pixel values of the images are normalized from a range of 0-255 to 0-1. This normalization helps the neural network train more effectively."
      ],
      "metadata": {
        "id": "3GFgMDuC24CS"
      }
    },
    {
      "cell_type": "code",
      "source": [
        "training_images  = training_images / 255.0\n",
        "test_images = test_images / 255.0"
      ],
      "metadata": {
        "id": "V2P8B67Dznae"
      },
      "execution_count": 22,
      "outputs": []
    },
    {
      "cell_type": "markdown",
      "source": [
        "## Building the Model\n",
        "A sequential model is created with three layers. The first layer flattens the 28x28 images into a 1D array. The second layer is a dense layer with 128 neurons, using the ReLU activation function. The final layer outputs probabilities for the 10 different classes of clothing."
      ],
      "metadata": {
        "id": "Q9nEYAkE3YqS"
      }
    },
    {
      "cell_type": "code",
      "source": [
        "model = tf.keras.models.Sequential([\n",
        "            tf.keras.layers.Flatten(input_shape=(28, 28)),\n",
        "            tf.keras.layers.Dense(128, activation=tf.nn.relu),\n",
        "            tf.keras.layers.Dense(10, activation=tf.nn.softmax)\n",
        "          ])"
      ],
      "metadata": {
        "id": "1ki3Y5TmmBSR"
      },
      "execution_count": 23,
      "outputs": []
    },
    {
      "cell_type": "markdown",
      "source": [
        "\n",
        "## Compiling the Model\n",
        "The model is compiled with the Adam optimizer and the sparse categorical crossentropy loss function. Accuracy is used as the metric to evaluate the model's performance."
      ],
      "metadata": {
        "id": "crcID4Wm3to9"
      }
    },
    {
      "cell_type": "code",
      "source": [
        "model.compile(optimizer='adam',\n",
        "              loss='sparse_categorical_crossentropy',\n",
        "              metrics=['accuracy'])"
      ],
      "metadata": {
        "id": "M6PD-mkPmF0R"
      },
      "execution_count": 24,
      "outputs": []
    },
    {
      "cell_type": "markdown",
      "source": [
        "\n",
        "## Training the Model\n",
        "The model is trained using the training data for 5 epochs. During this process, the model learns to associate images with their corresponding labels."
      ],
      "metadata": {
        "id": "4kzqKPZj35CR"
      }
    },
    {
      "cell_type": "code",
      "source": [
        "model.fit(training_images, training_labels, epochs=5)"
      ],
      "metadata": {
        "id": "djlk9dDcHBNp",
        "colab": {
          "base_uri": "https://localhost:8080/"
        },
        "outputId": "60377dbc-e168-4d10-92c2-53edd6d25c8b"
      },
      "execution_count": 25,
      "outputs": [
        {
          "output_type": "stream",
          "name": "stdout",
          "text": [
            "Epoch 1/5\n",
            "\u001b[1m1875/1875\u001b[0m \u001b[32m━━━━━━━━━━━━━━━━━━━━\u001b[0m\u001b[37m\u001b[0m \u001b[1m4s\u001b[0m 2ms/step - accuracy: 0.7856 - loss: 0.6241\n",
            "Epoch 2/5\n",
            "\u001b[1m1875/1875\u001b[0m \u001b[32m━━━━━━━━━━━━━━━━━━━━\u001b[0m\u001b[37m\u001b[0m \u001b[1m5s\u001b[0m 2ms/step - accuracy: 0.8572 - loss: 0.3885\n",
            "Epoch 3/5\n",
            "\u001b[1m1875/1875\u001b[0m \u001b[32m━━━━━━━━━━━━━━━━━━━━\u001b[0m\u001b[37m\u001b[0m \u001b[1m5s\u001b[0m 2ms/step - accuracy: 0.8749 - loss: 0.3412\n",
            "Epoch 4/5\n",
            "\u001b[1m1875/1875\u001b[0m \u001b[32m━━━━━━━━━━━━━━━━━━━━\u001b[0m\u001b[37m\u001b[0m \u001b[1m3s\u001b[0m 2ms/step - accuracy: 0.8851 - loss: 0.3121\n",
            "Epoch 5/5\n",
            "\u001b[1m1875/1875\u001b[0m \u001b[32m━━━━━━━━━━━━━━━━━━━━\u001b[0m\u001b[37m\u001b[0m \u001b[1m3s\u001b[0m 2ms/step - accuracy: 0.8885 - loss: 0.3008\n"
          ]
        },
        {
          "output_type": "execute_result",
          "data": {
            "text/plain": [
              "<keras.src.callbacks.history.History at 0x7ab5bf65ba30>"
            ]
          },
          "metadata": {},
          "execution_count": 25
        }
      ]
    },
    {
      "cell_type": "markdown",
      "source": [
        "## Evaluating the Model\n",
        "After training, the model’s performance is evaluated on the test dataset, which helps to understand how well it generalizes to new, unseen data."
      ],
      "metadata": {
        "id": "_owDLt9m4C5e"
      }
    },
    {
      "cell_type": "code",
      "source": [
        "model.evaluate(test_images, test_labels)"
      ],
      "metadata": {
        "id": "lwmXIZWt1PSY",
        "colab": {
          "base_uri": "https://localhost:8080/"
        },
        "outputId": "984cd69e-4338-4364-ba8d-8d1bbac8d788"
      },
      "execution_count": 26,
      "outputs": [
        {
          "output_type": "stream",
          "name": "stdout",
          "text": [
            "\u001b[1m313/313\u001b[0m \u001b[32m━━━━━━━━━━━━━━━━━━━━\u001b[0m\u001b[37m\u001b[0m \u001b[1m1s\u001b[0m 3ms/step - accuracy: 0.8769 - loss: 0.3443\n"
          ]
        },
        {
          "output_type": "execute_result",
          "data": {
            "text/plain": [
              "[0.3468303382396698, 0.8748000264167786]"
            ]
          },
          "metadata": {},
          "execution_count": 26
        }
      ]
    },
    {
      "cell_type": "markdown",
      "source": [
        "\n",
        "## Making Predictions\n",
        "The model is used to make predictions on the test images. You can inspect the predicted probabilities and compare them to the actual labels to see how well the model performed on individual examples.\n"
      ],
      "metadata": {
        "id": "M4jlKGWz4Lut"
      }
    },
    {
      "cell_type": "code",
      "source": [
        "# Get the predictions for the test images\n",
        "classifications = model.predict(test_images)\n",
        "\n",
        "# Print the predicted probabilities for the first test image\n",
        "print(\"Predicted probabilities for each class:\")\n",
        "for i, prob in enumerate(classifications[0]):\n",
        "    print(f\"Class {i}: {prob:.7f}\")\n",
        "\n",
        "# Print the class with the highest probability\n",
        "predicted_class = np.argmax(classifications[0])\n",
        "print(f\"\\nPredicted class: {predicted_class}\")\n",
        "\n",
        "# Print the actual label for the first test image\n",
        "actual_label = test_labels[0]\n",
        "print(f\"Actual label: {actual_label}\")\n"
      ],
      "metadata": {
        "colab": {
          "base_uri": "https://localhost:8080/"
        },
        "id": "LVbvaetB5Bee",
        "outputId": "0d9c1f3d-09fc-4b08-8fff-8780e6af1b38"
      },
      "execution_count": 28,
      "outputs": [
        {
          "output_type": "stream",
          "name": "stdout",
          "text": [
            "Predicted probabilities for each class:\n",
            "Class 0: 0.0000698\n",
            "Class 1: 0.0000004\n",
            "Class 2: 0.0000009\n",
            "Class 3: 0.0000013\n",
            "Class 4: 0.0000024\n",
            "Class 5: 0.0813378\n",
            "Class 6: 0.0000034\n",
            "Class 7: 0.0543907\n",
            "Class 8: 0.0000605\n",
            "Class 9: 0.8641327\n",
            "\n",
            "Predicted class: 9\n",
            "Actual label: 9\n"
          ]
        }
      ]
    }
  ]
}